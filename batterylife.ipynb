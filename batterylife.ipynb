{
  "nbformat": 4,
  "nbformat_minor": 0,
  "metadata": {
    "colab": {
      "name": "batterylife.ipynb",
      "provenance": [],
      "collapsed_sections": []
    },
    "kernelspec": {
      "name": "python3",
      "display_name": "Python 3"
    },
    "language_info": {
      "name": "python"
    }
  },
  "cells": [
    {
      "cell_type": "markdown",
      "metadata": {
        "id": "UVdknZaN4Abq"
      },
      "source": [
        "Based on https://www.geekstips.com/battery-life-calculator-sleep-mode/.\n",
        "\n",
        "This version does a more liberal calculation.\n",
        "\n",
        "---\n",
        "# Motivation\n",
        "This was originally on Matlab but to change values and see the results would require you to download it and run it. It was not worth the extra hassle. Thus, it is here instead. \n",
        " \n",
        "---\n",
        "#Current Values\n",
        "If this works, this should plot the battery life assuming the following:\n",
        "\n",
        "> Battery: 2 AAA in Series for 3.0 to 3.2V nominal - Rated for 1200 mAh total\n",
        "\n",
        "> Sleep cycle consumes 18mA\n",
        "\n",
        "> Wake cycle consumes 30mA\n",
        "\n",
        "> 2 minute uptime followed by 8 minute sleep\n",
        "\n",
        "> Calculation includes a derate of 15% on the battery"
      ]
    },
    {
      "cell_type": "code",
      "metadata": {
        "colab": {
          "base_uri": "https://localhost:8080/",
          "height": 313
        },
        "id": "tfNoe28I4Eti",
        "outputId": "7f2b1652-a0a3-430b-afde-7d48fdc41a45"
      },
      "source": [
        "%matplotlib inline\n",
        "\n",
        "import matplotlib.pyplot as plt\n",
        "import numpy as np\n",
        "import sympy as sym\n",
        "\n",
        "#Batter Capacity in mAh\n",
        "batteryCap = 1200;\n",
        "\n",
        "#Power draw in mA\n",
        "wakePower = 30;\n",
        "sleepPower = 18;\n",
        "\n",
        "#Fraction on a per hour basis\n",
        "wakeTime = 0.2; \n",
        "sleepTime = 0.8;\n",
        "\n",
        "x = [];\n",
        "\n",
        "#For loop for 0 to 70 hours \n",
        "for i in range(71): \n",
        "  x.append(i)\n",
        "\n",
        "#Plots a linear function of battery life\n",
        "x = np.asarray(x);\n",
        "plt.plot(x,batteryCap*0.85- sleepPower*sleepTime*x-wakePower*wakeTime*x);\n",
        "plt.xlabel(\"Time (hr)\");\n",
        "plt.ylabel(\"mAh\");\n",
        "plt.title(\"Battery Life\");\n",
        "plt.grid();\n",
        "plt.axis([0,70,0,1200]);\n",
        "\n",
        "#Solves the hour and day battery is dead.\n",
        "sym.var('hour');\n",
        "eqn = sym.Eq(0,batteryCap*0.85- sleepPower*sleepTime*hour-wakePower*wakeTime*hour);\n",
        "hourDead = sym.solve(eqn,hour);\n",
        "dayDead = hourDead[0] / 24;\n",
        "print(\"Hours till battery is dead:\",\"%0.2f\" % hourDead[0],\"or\", \"%0.2f\" % dayDead, \"days\");\n",
        "\n"
      ],
      "execution_count": 2,
      "outputs": [
        {
          "output_type": "stream",
          "text": [
            "Hours till battery is dead: 50.00 or 2.08 days\n"
          ],
          "name": "stdout"
        },
        {
          "output_type": "display_data",
          "data": {
            "image/png": "[encoded data removed]",
            "text/plain": [
              "<Figure size 432x288 with 1 Axes>"
            ]
          },
          "metadata": {
            "tags": [],
            "needs_background": "light"
          }
        }
      ]
    }
  ]
}